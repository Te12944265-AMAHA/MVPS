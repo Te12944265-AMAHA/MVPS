{
 "cells": [
  {
   "cell_type": "code",
   "execution_count": 1,
   "metadata": {},
   "outputs": [
    {
     "name": "stdout",
     "output_type": "stream",
     "text": [
      "Jupyter environment detected. Enabling Open3D WebVisualizer.\n",
      "[Open3D INFO] WebRTC GUI backend enabled.\n",
      "[Open3D INFO] WebRTCWindowSystem: HTTP handshake server disabled.\n"
     ]
    }
   ],
   "source": [
    "import open3d as o3d\n",
    "import numpy as np\n",
    "import matplotlib.pyplot as plt\n",
    "from pathlib import Path"
   ]
  },
  {
   "cell_type": "code",
   "execution_count": 2,
   "metadata": {},
   "outputs": [],
   "source": [
    "obj_name = \"bunny\"\n",
    "\n",
    "base_dir = Path(\"datasets\")\n",
    "data_dir = base_dir / obj_name\n",
    "sfm_dir = data_dir / \"sfm\"\n",
    "cam_dir = sfm_dir / \"cam\"\n",
    "recon_dir = data_dir / \"recon\"\n",
    "\n",
    "pcd_path = recon_dir / \"reconstructed_filtered.pcd\"\n",
    "cam_path = cam_dir / \"Camera.002.npz\""
   ]
  },
  {
   "cell_type": "code",
   "execution_count": 3,
   "metadata": {},
   "outputs": [
    {
     "name": "stdout",
     "output_type": "stream",
     "text": [
      "[[877.91237385   0.         300.        ]\n",
      " [  0.         877.91237385 400.        ]\n",
      " [  0.           0.           1.        ]]\n",
      "[[ 0.87400233  0.2152691  -0.43563647  2.59538966]\n",
      " [-0.23046462  0.97290697  0.01838733  0.58875611]\n",
      " [ 0.42779199  0.08432822  0.89993487 -0.49766862]\n",
      " [ 0.          0.          0.          1.        ]]\n"
     ]
    }
   ],
   "source": [
    "# load camera\n",
    "with np.load(cam_path) as X:\n",
    "    K, RT = [X[i].astype(np.float64) for i in (\"K\", \"RT\")]\n",
    "print(K)\n",
    "RT2 = np.eye(4)\n",
    "RT2[:3,:] = RT\n",
    "print(RT2)"
   ]
  },
  {
   "cell_type": "code",
   "execution_count": 4,
   "metadata": {},
   "outputs": [
    {
     "name": "stdout",
     "output_type": "stream",
     "text": [
      "PointCloud with 6035 points.\n"
     ]
    }
   ],
   "source": [
    "pcd = o3d.io.read_point_cloud(str(pcd_path))\n",
    "print(pcd)"
   ]
  },
  {
   "cell_type": "code",
   "execution_count": 4,
   "metadata": {},
   "outputs": [],
   "source": [
    "bunny = o3d.data.BunnyMesh()\n",
    "gt_mesh = o3d.io.read_triangle_mesh(bunny.path)\n",
    "gt_mesh.compute_vertex_normals()\n",
    "\n",
    "pcd = gt_mesh.sample_points_poisson_disk(5000)\n",
    "o3d.visualization.draw_geometries([pcd])"
   ]
  },
  {
   "cell_type": "code",
   "execution_count": 5,
   "metadata": {},
   "outputs": [],
   "source": [
    "# invalidate existing normals\n",
    "pcd.normals = o3d.utility.Vector3dVector(np.zeros((1, 3)))\n",
    "pcd.estimate_normals()\n",
    "o3d.visualization.draw_geometries([pcd], point_show_normal=True)"
   ]
  },
  {
   "cell_type": "code",
   "execution_count": 6,
   "metadata": {},
   "outputs": [
    {
     "name": "stdout",
     "output_type": "stream",
     "text": [
      "<class 'open3d.cuda.pybind.utility.Vector3dVector'>\n"
     ]
    }
   ],
   "source": [
    "#pcd.orient_normals_towards_camera_location(camera_location=RT[:,3])\n",
    "pcd.orient_normals_consistent_tangent_plane(100)\n",
    "o3d.visualization.draw_geometries([pcd], point_show_normal=True)\n",
    "print(type(pcd.normals))"
   ]
  },
  {
   "cell_type": "code",
   "execution_count": 56,
   "metadata": {},
   "outputs": [],
   "source": [
    "radii = [0.005, 0.01, 0.02, 0.04]\n",
    "mesh = o3d.geometry.TriangleMesh.create_from_point_cloud_ball_pivoting(\n",
    "    pcd, o3d.utility.DoubleVector(radii))\n",
    "o3d.visualization.draw_geometries([pcd, mesh])"
   ]
  },
  {
   "cell_type": "code",
   "execution_count": 7,
   "metadata": {},
   "outputs": [
    {
     "name": "stdout",
     "output_type": "stream",
     "text": [
      "[Open3D DEBUG] Input Points / Samples: 5000 / 5000\n",
      "[Open3D DEBUG] #   Got kernel density: 0.0214829 (s), 325.148 (MB) / 325.148 (MB) / 325 (MB)\n",
      "[Open3D DEBUG] #     Got normal field: 0.0324948 (s), 329.512 (MB) / 329.512 (MB) / 329 (MB)\n",
      "[Open3D DEBUG] Point weight / Estimated Area: 5.965973e-04 / 2.982986e+00\n",
      "[Open3D DEBUG] #       Finalized tree: 0.029947 (s), 334.984 (MB) / 334.984 (MB) / 334 (MB)\n",
      "[Open3D DEBUG] #  Set FEM constraints: 0.037766 (s), 334.984 (MB) / 334.984 (MB) / 334 (MB)\n",
      "[Open3D DEBUG] #Set point constraints: 0.00998998 (s), 334.984 (MB) / 334.984 (MB) / 334 (MB)\n",
      "[Open3D DEBUG] Leaf Nodes / Active Nodes / Ghost Nodes: 288534 / 107328 / 222425\n",
      "[Open3D DEBUG] Memory Usage: 334.984 MB\n",
      "Cycle[0] Depth[0/9]:\tUpdated constraints / Got system / Solved in:  0.000 /  0.000 /  0.000\t(334.984 MB)\tNodes: 8\n",
      "CG: 1.0735e+00 -> 1.0735e+00 -> 2.4452e-06 (2.3e-06) [0]\n",
      "Cycle[0] Depth[1/9]:\tUpdated constraints / Got system / Solved in:  0.001 /  0.000 /  0.000\t(334.984 MB)\tNodes: 27\n",
      "  GS: 2.6717e+00 -> 2.6717e+00 -> 2.2294e-04 (8.3e-05) [8]\n",
      "Cycle[0] Depth[2/9]:\tUpdated constraints / Got system / Solved in:  0.000 /  0.001 /  0.000\t(334.984 MB)\tNodes: 125\n",
      "    GS: 2.3616e+00 -> 2.3616e+00 -> 1.9878e-03 (8.4e-04) [8]\n",
      "Cycle[0] Depth[3/9]:\tUpdated constraints / Got system / Solved in:  0.001 /  0.002 /  0.000\t(334.984 MB)\tNodes: 729\n",
      "      GS: 2.4834e+00 -> 2.4834e+00 -> 9.7326e-03 (3.9e-03) [8]\n",
      "Cycle[0] Depth[4/9]:\tUpdated constraints / Got system / Solved in:  0.001 /  0.008 /  0.002\t(334.984 MB)\tNodes: 4913\n",
      "        GS: 1.8700e+00 -> 1.8700e+00 -> 8.7702e-03 (4.7e-03) [8]\n",
      "Cycle[0] Depth[5/9]:\tUpdated constraints / Got system / Solved in:  0.001 /  0.012 /  0.023\t(334.984 MB)\tNodes: 35937\n",
      "          GS: 1.1636[Open3D DEBUG] # Linear system solved: 0.129496 (s), 334.984 (MB) / 334.984 (MB) / 334 (MB)\n",
      "e+00 -> 1.1636e+00 -> 7.3975e-03 (6.4e-03) [8]\n",
      "Cycle[0] Depth[6/9]:\tUpdated constraints / Got system / Solved in:  0.001 /  0.011 /  0.022\t(334.984 MB)\tNodes: 40440\n",
      "            GS: 5.1198e-01 -> 5.1198e-01 -> 5.9418e-04 (1.2e-03) [8]\n",
      "Cycle[0] Depth[7/9]:\tUpdated constraints / Got system / Solved in:  0.001 /  0.001 /  0.000\t(334.984 MB)\tNodes: 0\n",
      "              GS: 0.0000e+00 -> 0.0000e+00 -> 0.0000e+00 (-nan) [8]\n",
      "Cycle[0] Depth[8/9]:\tUpdated constraints / Got system / Solved in:  0.002 /  0.002 /  0.000\t(334.984 MB)\tNodes: 0\n",
      "                GS: 0.0000e+00 -> 0.0000e+00 -> 0.0000e+00 (-nan) [8]\n",
      "Cycle[0] Depth[9/9]:\tUpdated constraints / Got system / Solved in:  0.001 /  0.003 /  0.001\t(334.984 MB)\tNodes: 0\n",
      "                  GS: 0.0000e+00 -> 0.0000e+00 -> 0.0000e+00 (-nan) [8]\n",
      "[Open3D DEBUG] Got average: 0.00509906 (s), 335.012 (MB) / 335.012 (MB) / 335 (MB)\n",
      "[Open3D DEBUG] Iso-Value: 5.009933e-01 = 2.504966e+03 / 5.000000e+03\n",
      "[Open3D DEBUG] #          Total Solve:       2.5 (s),     347.9 (MB)\n"
     ]
    }
   ],
   "source": [
    "with o3d.utility.VerbosityContextManager(\n",
    "        o3d.utility.VerbosityLevel.Debug) as cm:\n",
    "    mesh, densities = o3d.geometry.TriangleMesh.create_from_point_cloud_poisson(\n",
    "        pcd, depth=9)\n",
    "#print(mesh)\n",
    "o3d.visualization.draw_geometries([mesh])"
   ]
  },
  {
   "cell_type": "code",
   "execution_count": 39,
   "metadata": {},
   "outputs": [
    {
     "name": "stdout",
     "output_type": "stream",
     "text": [
      "Try to render a mesh with normals (exist: True) and colors (exist: True)\n"
     ]
    }
   ],
   "source": [
    "print(\"Try to render a mesh with normals (exist: \" +\n",
    "      str(mesh.has_vertex_normals()) + \") and colors (exist: \" +\n",
    "      str(mesh.has_vertex_colors()) + \")\")"
   ]
  },
  {
   "cell_type": "code",
   "execution_count": 8,
   "metadata": {},
   "outputs": [
    {
     "name": "stdout",
     "output_type": "stream",
     "text": [
      "[[-0.73535296 -0.14361035 -0.66229306]\n",
      " [-0.73472056 -0.14935774 -0.66172348]\n",
      " [-0.70393026 -0.13016927 -0.69823933]\n",
      " ...\n",
      " [ 0.49503108 -0.23205222  0.83731475]\n",
      " [ 0.52253832 -0.30059474  0.79786998]\n",
      " [ 0.38438426 -0.22553974  0.89519862]]\n"
     ]
    }
   ],
   "source": [
    "mesh.compute_vertex_normals()\n",
    "print(np.asarray(mesh.triangle_normals))\n",
    "o3d.visualization.draw_geometries([mesh])"
   ]
  },
  {
   "cell_type": "code",
   "execution_count": 16,
   "metadata": {},
   "outputs": [
    {
     "name": "stdout",
     "output_type": "stream",
     "text": [
      "visualize densities\n"
     ]
    }
   ],
   "source": [
    "print('visualize densities')\n",
    "densities = np.asarray(densities)\n",
    "density_colors = plt.get_cmap('plasma')(\n",
    "    (densities - densities.min()) / (densities.max() - densities.min()))\n",
    "density_colors = density_colors[:, :3]\n",
    "density_mesh = o3d.geometry.TriangleMesh()\n",
    "density_mesh.vertices = mesh.vertices\n",
    "density_mesh.triangles = mesh.triangles\n",
    "density_mesh.triangle_normals = mesh.triangle_normals\n",
    "density_mesh.vertex_colors = o3d.utility.Vector3dVector(density_colors)\n",
    "o3d.visualization.draw_geometries([density_mesh],\n",
    "                                  zoom=0.664,\n",
    "                                  front=[-0.4761, -0.4698, -0.7434],\n",
    "                                  lookat=[1.8900, 3.2596, 0.9284],\n",
    "                                  up=[0.2304, -0.8825, 0.4101])"
   ]
  },
  {
   "cell_type": "code",
   "execution_count": 9,
   "metadata": {},
   "outputs": [
    {
     "name": "stdout",
     "output_type": "stream",
     "text": [
      "600 800\n",
      "True\n",
      "[[692.82032303   0.         299.5       ]\n",
      " [  0.         692.82032303 399.5       ]\n",
      " [  0.           0.           1.        ]]\n",
      "[[ 0.87400233  0.2152691  -0.43563647  2.59538966]\n",
      " [-0.23046462  0.97290697  0.01838733  0.58875611]\n",
      " [ 0.42779199  0.08432822  0.89993487 -0.49766862]\n",
      " [ 0.          0.          0.          1.        ]]\n"
     ]
    }
   ],
   "source": [
    "cx = K[0,2]\n",
    "cy = K[1,2]\n",
    "img_width = int(cx * 2)\n",
    "img_height = int(cy * 2)\n",
    "cx -= 0.5\n",
    "cy -= 0.5\n",
    "print(img_width, img_height)\n",
    "fx = K[0,0]\n",
    "fy = K[1,1]\n",
    "\n",
    "vis = o3d.visualization.Visualizer()\n",
    "vis.create_window(width=img_width, height=img_height)\n",
    "vis.get_render_option().mesh_color_option = o3d.visualization.MeshColorOption.Normal\n",
    "vis.add_geometry(mesh)\n",
    "\n",
    "view_ctl = vis.get_view_control()\n",
    "#assert id(view_ctl) == id(vis.get_view_control())\n",
    "\n",
    "\n",
    "cam = view_ctl.convert_to_pinhole_camera_parameters()\n",
    "#RT2[2,3] = 10.00\n",
    "cam.extrinsic = RT2\n",
    "#pinhole = o3d.camera.PinholeCameraIntrinsic(img_width, img_height, K)\n",
    "cam.intrinsic.set_intrinsics(img_width, img_height, fx, fy, cx, cy)\n",
    "res = view_ctl.convert_from_pinhole_camera_parameters(cam)\n",
    "print(res)\n",
    "\n",
    "\n",
    "current_param = view_ctl.convert_to_pinhole_camera_parameters()\n",
    "print(current_param.intrinsic.intrinsic_matrix)\n",
    "print(current_param.extrinsic)\n",
    "\n",
    "vis.run()\n",
    "vis.destroy_window()"
   ]
  },
  {
   "cell_type": "code",
   "execution_count": 60,
   "metadata": {},
   "outputs": [],
   "source": [
    "from open3d.visualization import rendering"
   ]
  },
  {
   "cell_type": "code",
   "execution_count": null,
   "metadata": {},
   "outputs": [],
   "source": [
    "cx = K[0,2]*2\n",
    "cy = K[1,2]*2\n",
    "img_width = cx * 2\n",
    "img_height = cy * 2\n",
    "fx = K[0,0]\n",
    "fy = K[1,1]\n",
    "\n",
    "# Create a renderer with a set image width and height\n",
    "render = rendering.OffscreenRenderer(img_width, img_height)\n",
    "\n",
    "# setup camera intrinsic values\n",
    "pinhole = o3d.camera.PinholeCameraIntrinsic(img_width, img_height, fx, fy, cx, cy)\n",
    "    \n",
    "# Pick a background colour of the rendered image, I set it as black (default is light gray)\n",
    "render.scene.set_background([1.0, 1.0, 1.0, 1.0])  # RGBA\n",
    "\n",
    "# # now create your mesh\n",
    "# mesh = o3d.geometry.TriangleMesh()\n",
    "# mesh.paint_uniform_color([1.0, 0.0, 0.0]) # set Red color for mesh \n",
    "# # define further mesh properties, shape, vertices etc  (omitted here)  \n",
    "\n",
    "# # Define a simple unlit Material.\n",
    "# # (The base color does not replace the mesh's own colors.)\n",
    "# mtl = o3d.visualization.rendering.Material()\n",
    "# mtl.base_color = [1.0, 1.0, 1.0, 1.0]  # RGBA\n",
    "# mtl.shader = \"defaultUnlit\"\n",
    "\n",
    "# add mesh to the scene\n",
    "render.scene.add_geometry(\"MyMeshModel\", mesh, mtl)\n",
    "\n",
    "# render the scene with respect to the camera\n",
    "render.scene.camera.set_projection(pinhole, 0.1, 1.0, 640, 480)\n",
    "img_o3d = render.render_to_image()\n",
    "\n",
    "# we can now save the rendered image right at this point \n",
    "o3d.io.write_image(\"output.png\", img_o3d, 9)"
   ]
  }
 ],
 "metadata": {
  "kernelspec": {
   "display_name": "dl_dev",
   "language": "python",
   "name": "python3"
  },
  "language_info": {
   "codemirror_mode": {
    "name": "ipython",
    "version": 3
   },
   "file_extension": ".py",
   "mimetype": "text/x-python",
   "name": "python",
   "nbconvert_exporter": "python",
   "pygments_lexer": "ipython3",
   "version": "3.8.16"
  },
  "orig_nbformat": 4
 },
 "nbformat": 4,
 "nbformat_minor": 2
}
